{
 "cells": [
  {
   "cell_type": "markdown",
   "metadata": {},
   "source": [
    "# Идеальная пицца?"
   ]
  },
  {
   "cell_type": "markdown",
   "metadata": {},
   "source": [
    "Импортируем либы"
   ]
  },
  {
   "cell_type": "code",
   "execution_count": 35,
   "metadata": {},
   "outputs": [],
   "source": [
    "import urllib.request\n",
    "from bs4 import BeautifulSoup"
   ]
  },
  {
   "cell_type": "markdown",
   "metadata": {},
   "source": [
    "Решил выбирать из меню Додо. Сначала получим страницу с пиццами"
   ]
  },
  {
   "cell_type": "code",
   "execution_count": 49,
   "metadata": {},
   "outputs": [],
   "source": [
    "page = urllib.request.urlopen(\"https://dodopizza.ru/astrakhan#pizzas\") # я живу в астрахани\n",
    "html = page.read().decode()\n",
    "page.close()"
   ]
  },
  {
   "cell_type": "markdown",
   "metadata": {},
   "source": [
    "Создадим объект bs"
   ]
  },
  {
   "cell_type": "code",
   "execution_count": 51,
   "metadata": {},
   "outputs": [],
   "source": [
    "soup = BeautifulSoup(html, 'lxml')"
   ]
  },
  {
   "cell_type": "markdown",
   "metadata": {},
   "source": [
    "Получим список всех возможных ингредиентов"
   ]
  },
  {
   "cell_type": "code",
   "execution_count": 59,
   "metadata": {},
   "outputs": [],
   "source": [
    "ingredients = set()\n",
    "pizzas = soup.find_all(\"div\", attrs={'class':\"product__name product__name_pizza\"}) #тег в котором лежит название пиццы\n",
    "for pizza in pizzas:\n",
    "    pizza_description = pizza.findNext('div').text #все что внутри тега - описание пиццы\n",
    "    pizza_ingredients = pizza_description.split(', ')\n",
    "    pizza_ingredients = [i.lower() for i in pizza_ingredients]\n",
    "    #print(pizza_ingredients)\n",
    "    ingredients.update(pizza_ingredients)    "
   ]
  },
  {
   "cell_type": "code",
   "execution_count": 60,
   "metadata": {},
   "outputs": [
    {
     "data": {
      "text/plain": [
       "{'ананасы',\n",
       " 'бекон',\n",
       " 'брусника',\n",
       " 'ветчина',\n",
       " 'итальянские травы',\n",
       " 'кисло-сладкий соус',\n",
       " 'красный лук',\n",
       " 'креветки',\n",
       " 'кубики брынзы',\n",
       " 'маслины',\n",
       " 'молоко сгущенное',\n",
       " 'моцарелла',\n",
       " 'мясной соус болоньезе',\n",
       " 'острая чоризо',\n",
       " 'острый халапеньо',\n",
       " 'пикантная пепперони',\n",
       " 'сладкий перец',\n",
       " 'сливочный соус',\n",
       " 'смесь сыров чеддер и пармезан',\n",
       " 'соберите свою пиццу 35 см с двумя разными вкусами',\n",
       " 'соленые огурчики',\n",
       " 'соус барбекю',\n",
       " 'соус бургер',\n",
       " 'соус ранч',\n",
       " 'соус сальса',\n",
       " 'соус чипотле',\n",
       " 'сыр блю чиз',\n",
       " 'сырный соус',\n",
       " 'томатный соус',\n",
       " 'томаты',\n",
       " 'фарш из говядины',\n",
       " 'цыпленок',\n",
       " 'черный кунжут',\n",
       " 'чеснок',\n",
       " 'чоризо',\n",
       " 'шампиньоны'}"
      ]
     },
     "execution_count": 60,
     "metadata": {},
     "output_type": "execute_result"
    }
   ],
   "source": [
    "ingredients"
   ]
  },
  {
   "cell_type": "markdown",
   "metadata": {},
   "source": [
    "Выставим оценки для каждого ингредиента"
   ]
  },
  {
   "cell_type": "code",
   "execution_count": 61,
   "metadata": {},
   "outputs": [],
   "source": [
    "marks = {'ананасы':1,\n",
    "         'бекон':5,\n",
    "         'брусника':0,\n",
    "         'ветчина':4,\n",
    "         'итальянские травы':5,\n",
    "         'кисло-сладкий соус':4,\n",
    "         'красный лук':4,\n",
    "         'креветки':1,\n",
    "         'кубики брынзы':3,\n",
    "         'маслины':2,\n",
    "         'молоко сгущенное':1,\n",
    "         'моцарелла':5,\n",
    "         'мясной соус болоньезе':5,\n",
    "         'острая чоризо' :2,\n",
    "         'острый халапеньо' : 3,\n",
    "         'пикантная пепперони':2,\n",
    "         'сладкий перец':4,\n",
    "         'сливочный соус':5,\n",
    "         'смесь сыров чеддер и пармезан':5,\n",
    "         'соленые огурчики' :5,\n",
    "         'соус барбекю': 3,\n",
    "         'соус бургер': 5,\n",
    "         'соус ранч': 4,\n",
    "         'соус сальса': 3,\n",
    "         'соус чипотле': 4,\n",
    "         'сыр блю чиз' : 5,\n",
    "         'сырный соус': 5,\n",
    "         'томатный соус': 5,\n",
    "         'томаты': 5,\n",
    "         'фарш из говядины': 5,\n",
    "         'цыпленок': 4,\n",
    "         'черный кунжут': 3,\n",
    "         'чеснок': 5,\n",
    "         'чоризо': 2,\n",
    "         'шампиньоны': 3}"
   ]
  },
  {
   "cell_type": "markdown",
   "metadata": {},
   "source": [
    "# Выберем лучшую пиццу!"
   ]
  },
  {
   "cell_type": "code",
   "execution_count": 146,
   "metadata": {},
   "outputs": [],
   "source": [
    "pizzas = soup.find_all(\"div\", attrs={'class':\"product__name product__name_pizza\"})\n",
    "pizzas_marks = {}\n",
    "for pizza in pizzas:\n",
    "    pizza_description = pizza.findNext('div').text\n",
    "    price = int(pizza.findNext('span').text[:-1])\n",
    "    pizza_ingredients = pizza_description.split(', ')\n",
    "    pizza_ingredients = [i.lower() for i in pizza_ingredients]\n",
    "    if len(pizza_ingredients)<2:\n",
    "        continue\n",
    "    mark = (sum(marks.get(i, 0) for i in pizza_ingredients))/price # - по соотношению цена-качество\n",
    "    pizzas_marks[pizza.text] = mark"
   ]
  },
  {
   "cell_type": "code",
   "execution_count": 147,
   "metadata": {},
   "outputs": [
    {
     "data": {
      "text/plain": [
       "{'Аррива!': 0.11014492753623188,\n",
       " 'Пепперони-сердце': 0.022857142857142857,\n",
       " 'Пирог-сердце': 0.0044943820224719105,\n",
       " 'Пепперони Фреш с\\xa0перцем': 0.0653061224489796,\n",
       " 'Пепперони Фреш с\\xa0томатами': 0.06938775510204082,\n",
       " 'Испанские колбаски чоризо': 0.050793650793650794,\n",
       " 'Сырная': 0.04081632653061224,\n",
       " 'Ветчина и сыр': 0.04745762711864407,\n",
       " 'Кисло-сладкий цыпленок': 0.061016949152542375,\n",
       " 'Чизбургер-пицца': 0.08405797101449275,\n",
       " 'Крэйзи пепперони ': 0.057971014492753624,\n",
       " 'Креветки по-азиатски': 0.0463768115942029,\n",
       " 'Пепперони': 0.034782608695652174,\n",
       " 'Четыре сыра': 0.05063291139240506,\n",
       " 'Додо': 0.08607594936708861,\n",
       " 'Мясная': 0.05569620253164557,\n",
       " 'Мексиканская': 0.08354430379746836,\n",
       " 'Ветчина и грибы': 0.05396825396825397,\n",
       " 'Маргарита': 0.06349206349206349,\n",
       " 'Гавайская': 0.043478260869565216,\n",
       " 'Пицца-пирог': 0.006349206349206349,\n",
       " 'Четыре сезона': 0.0927536231884058,\n",
       " 'Супермясная': 0.06292134831460675,\n",
       " 'Двойная пепперони': 0.030379746835443037,\n",
       " 'Цыпленок ранч': 0.06835443037974684,\n",
       " 'Сырный цыпленок': 0.05507246376811594,\n",
       " 'Овощи и грибы': 0.10434782608695652,\n",
       " 'Итальянская': 0.06376811594202898,\n",
       " 'Цыпленок барбекю': 0.06582278481012659,\n",
       " 'Дон Бекон': 0.06329113924050633}"
      ]
     },
     "execution_count": 147,
     "metadata": {},
     "output_type": "execute_result"
    }
   ],
   "source": [
    "pizzas_marks"
   ]
  },
  {
   "cell_type": "markdown",
   "metadata": {},
   "source": [
    "А теперь построим график"
   ]
  },
  {
   "cell_type": "code",
   "execution_count": 148,
   "metadata": {},
   "outputs": [],
   "source": [
    "import matplotlib.pyplot as plt"
   ]
  },
  {
   "cell_type": "code",
   "execution_count": 149,
   "metadata": {},
   "outputs": [
    {
     "data": {
      "text/plain": [
       "([<matplotlib.axis.XTick at 0x1613ea60>,\n",
       "  <matplotlib.axis.XTick at 0x1613eaa8>,\n",
       "  <matplotlib.axis.XTick at 0x16125c70>,\n",
       "  <matplotlib.axis.XTick at 0x1621e7f0>,\n",
       "  <matplotlib.axis.XTick at 0x1621ea78>,\n",
       "  <matplotlib.axis.XTick at 0x1621ed30>,\n",
       "  <matplotlib.axis.XTick at 0x1621eb20>,\n",
       "  <matplotlib.axis.XTick at 0x16229070>,\n",
       "  <matplotlib.axis.XTick at 0x16229340>,\n",
       "  <matplotlib.axis.XTick at 0x16229610>,\n",
       "  <matplotlib.axis.XTick at 0x162298e0>,\n",
       "  <matplotlib.axis.XTick at 0x16229bb0>,\n",
       "  <matplotlib.axis.XTick at 0x16229e80>,\n",
       "  <matplotlib.axis.XTick at 0x16231178>,\n",
       "  <matplotlib.axis.XTick at 0x16231448>,\n",
       "  <matplotlib.axis.XTick at 0x16231718>,\n",
       "  <matplotlib.axis.XTick at 0x16229958>,\n",
       "  <matplotlib.axis.XTick at 0x1621e928>,\n",
       "  <matplotlib.axis.XTick at 0x162317f0>,\n",
       "  <matplotlib.axis.XTick at 0x16231ac0>,\n",
       "  <matplotlib.axis.XTick at 0x16231d90>,\n",
       "  <matplotlib.axis.XTick at 0x16238088>,\n",
       "  <matplotlib.axis.XTick at 0x16238358>,\n",
       "  <matplotlib.axis.XTick at 0x16238628>,\n",
       "  <matplotlib.axis.XTick at 0x162388f8>,\n",
       "  <matplotlib.axis.XTick at 0x16231af0>,\n",
       "  <matplotlib.axis.XTick at 0x16229fb8>,\n",
       "  <matplotlib.axis.XTick at 0x16238130>,\n",
       "  <matplotlib.axis.XTick at 0x16238ce8>,\n",
       "  <matplotlib.axis.XTick at 0x16238fb8>],\n",
       " <a list of 30 Text xticklabel objects>)"
      ]
     },
     "execution_count": 149,
     "metadata": {},
     "output_type": "execute_result"
    },
    {
     "data": {
      "image/png": "[encoded data removed]",
      "text/plain": [
       "<Figure size 432x288 with 1 Axes>"
      ]
     },
     "metadata": {
      "needs_background": "light"
     },
     "output_type": "display_data"
    }
   ],
   "source": [
    "bar(list(range(len(pizzas_marks))),[pizzas_marks[i] for i in pizzas_marks])\n",
    "plt.xticks(list(range(len(pizzas_marks))), list(pizzas_marks), rotation=90)"
   ]
  },
  {
   "cell_type": "markdown",
   "metadata": {},
   "source": [
    "Итак: Аррива и Овощи с грибами - самые оптимальные пиццы по соотношению цена-качество. Мы нашли их."
   ]
  },
  {
   "cell_type": "code",
   "execution_count": null,
   "metadata": {},
   "outputs": [],
   "source": []
  },
  {
   "cell_type": "code",
   "execution_count": null,
   "metadata": {},
   "outputs": [],
   "source": []
  }
 ],
 "metadata": {
  "kernelspec": {
   "display_name": "Python 3",
   "language": "python",
   "name": "python3"
  },
  "language_info": {
   "codemirror_mode": {
    "name": "ipython",
    "version": 3
   },
   "file_extension": ".py",
   "mimetype": "text/x-python",
   "name": "python",
   "nbconvert_exporter": "python",
   "pygments_lexer": "ipython3",
   "version": "3.8.0"
  }
 },
 "nbformat": 4,
 "nbformat_minor": 2
}
